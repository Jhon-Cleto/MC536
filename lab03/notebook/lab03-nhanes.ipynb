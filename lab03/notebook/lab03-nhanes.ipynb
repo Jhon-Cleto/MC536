{
 "cells": [
  {
   "cell_type": "markdown",
   "source": [
    "# National Health and Nutrition Examination Survey (NHANES)\n",
    "[https://wwwn.cdc.gov/nchs/nhanes/](https://wwwn.cdc.gov/nchs/nhanes/)\n",
    "\n",
    "Este laboratório usará dados extraídos do NHANES.\n",
    "\n",
    "## NHANES datasets from 2013-2014\n",
    "\n",
    "Foram extraídos dados do [NHANES 2013-2014](https://wwwn.cdc.gov/nchs/nhanes/continuousnhanes/default.aspx?BeginYear=2013).\n",
    "\n",
    "Os dados estão disponíveis em arquivos CSV no diretório `/data/nhanes`. Lá está disponível a documentação do esquema dos arquivos."
   ],
   "metadata": {}
  },
  {
   "cell_type": "markdown",
   "source": [
    "# Tarefa 1 - Esquema Relacional\n",
    "\n",
    "Analise os arquivos CSV que estão no diretório `/data/nhanes` e escreva um esquema relacional referente às tabelas, suas chaves primárias e estrangeiras (não é SQL ainda). Coloque a chave primária com dois underlines antes e dois depois:\n",
    "\n",
    "\\__teste\\__"
   ],
   "metadata": {}
  },
  {
   "cell_type": "markdown",
   "source": [
    "## Esquema Relacional\n",
    "#### Tabelas\n",
    "* Demographic Person (__id__, gender, age);\n",
    "* Medications Drug (__code__, name);\n",
    "* Medications Use (__person_id__, __drug_code__, days_use)\n",
    "    * CHE: person_id, Chave estrangeira para Demographic Person\n",
    "    * CHE: drug_code, Chave estrangeira para Medications Drug"
   ],
   "metadata": {}
  },
  {
   "cell_type": "markdown",
   "source": [
    "## Criação das Tabelas em SQL e Importação de Dados\n",
    "\n",
    "Considere o seguinte exemplo em que é criada uma tabela em SQL e importado dados do arquivo CSV `demographic-person.csv`."
   ],
   "metadata": {}
  },
  {
   "cell_type": "code",
   "execution_count": 1,
   "source": [
    "%defaultDatasource jdbc:h2:mem:db"
   ],
   "outputs": [],
   "metadata": {}
  },
  {
   "cell_type": "code",
   "execution_count": 2,
   "source": [
    "DROP TABLE IF EXISTS Pessoa;\n",
    "CREATE TABLE Pessoa (\n",
    "  Id VARCHAR(5) NOT NULL,\n",
    "  Gender INTEGER,\n",
    "  Age INTEGER,\n",
    "  PRIMARY KEY(Id)\n",
    ") AS SELECT\n",
    "    id,\n",
    "    gender,\n",
    "    age\n",
    "FROM CSVREAD('../data/demographic-person.csv');"
   ],
   "outputs": [],
   "metadata": {}
  },
  {
   "cell_type": "code",
   "execution_count": 3,
   "source": [
    "SELECT * FROM Pessoa;"
   ],
   "outputs": [
    {
     "output_type": "display_data",
     "data": {
      "application/vnd.jupyter.widget-view+json": {
       "model_id": "aae0a60e-77fe-4bcd-82a4-138d71a27072",
       "version_major": 2,
       "version_minor": 0
      },
      "application/vnd.code.notebook.error": {
       "name": "Error",
       "message": "INVALID mime type: method. Must be in the format \"type/subtype[;optionalparameter]\"",
       "stack": "Error: INVALID mime type: method. Must be in the format \"type/subtype[;optionalparameter]\"\n\tat new Tt (/usr/share/code/resources/app/out/vs/workbench/services/extensions/node/extensionHostProcess.js:87:55799)\n\tat Function.text (/usr/share/code/resources/app/out/vs/workbench/services/extensions/node/extensionHostProcess.js:87:56450)\n\tat d (/usr/share/code/resources/app/extensions/ipynb/dist/ipynbMain.js:1:139047)\n\tat l (/usr/share/code/resources/app/extensions/ipynb/dist/ipynbMain.js:1:139713)\n\tat p (/usr/share/code/resources/app/extensions/ipynb/dist/ipynbMain.js:1:140218)\n\tat Array.map (<anonymous>)\n\tat /usr/share/code/resources/app/extensions/ipynb/dist/ipynbMain.js:1:141404\n\tat /usr/share/code/resources/app/extensions/ipynb/dist/ipynbMain.js:1:141646\n\tat /usr/share/code/resources/app/extensions/ipynb/dist/ipynbMain.js:1:141653\n\tat Array.map (<anonymous>)\n\tat e.jupyterNotebookModelToNotebookData (/usr/share/code/resources/app/extensions/ipynb/dist/ipynbMain.js:1:140962)\n\tat e.NotebookSerializer.deserializeNotebook (/usr/share/code/resources/app/extensions/ipynb/dist/ipynbMain.js:1:142865)\n\tat P.$dataToNotebook (/usr/share/code/resources/app/out/vs/workbench/services/extensions/node/extensionHostProcess.js:94:214167)\n\tat i._doInvokeHandler (/usr/share/code/resources/app/out/vs/workbench/services/extensions/node/extensionHostProcess.js:98:13543)\n\tat i._invokeHandler (/usr/share/code/resources/app/out/vs/workbench/services/extensions/node/extensionHostProcess.js:98:13227)\n\tat i._receiveRequest (/usr/share/code/resources/app/out/vs/workbench/services/extensions/node/extensionHostProcess.js:98:11838)\n\tat i._receiveOneMessage (/usr/share/code/resources/app/out/vs/workbench/services/extensions/node/extensionHostProcess.js:98:10766)\n\tat /usr/share/code/resources/app/out/vs/workbench/services/extensions/node/extensionHostProcess.js:98:8663\n\tat c.fire (/usr/share/code/resources/app/out/vs/workbench/services/extensions/node/extensionHostProcess.js:66:1712)\n\tat l.fire (/usr/share/code/resources/app/out/vs/workbench/services/extensions/node/extensionHostProcess.js:74:15781)\n\tat /usr/share/code/resources/app/out/vs/workbench/services/extensions/node/extensionHostProcess.js:113:30187\n\tat c.fire (/usr/share/code/resources/app/out/vs/workbench/services/extensions/node/extensionHostProcess.js:66:1712)\n\tat l.fire (/usr/share/code/resources/app/out/vs/workbench/services/extensions/node/extensionHostProcess.js:74:15781)\n\tat r._receiveMessage (/usr/share/code/resources/app/out/vs/workbench/services/extensions/node/extensionHostProcess.js:74:21051)\n\tat /usr/share/code/resources/app/out/vs/workbench/services/extensions/node/extensionHostProcess.js:74:17929\n\tat c.fire (/usr/share/code/resources/app/out/vs/workbench/services/extensions/node/extensionHostProcess.js:66:1712)\n\tat v.acceptChunk (/usr/share/code/resources/app/out/vs/workbench/services/extensions/node/extensionHostProcess.js:74:13142)\n\tat /usr/share/code/resources/app/out/vs/workbench/services/extensions/node/extensionHostProcess.js:74:12490\n\tat Socket.w (/usr/share/code/resources/app/out/vs/workbench/services/extensions/node/extensionHostProcess.js:113:13350)\n\tat Socket.emit (events.js:315:20)\n\tat addChunk (internal/streams/readable.js:309:12)\n\tat readableAddChunk (internal/streams/readable.js:284:9)\n\tat Socket.Readable.push (internal/streams/readable.js:223:10)\n\tat Pipe.onStreamRead (internal/stream_base_commons.js:188:23)"
      }
     },
     "metadata": {}
    }
   ],
   "metadata": {}
  },
  {
   "cell_type": "markdown",
   "source": [
    "# Tarefa 2 - Criação das Tabelas em SQL e Importação de Dados\n",
    "\n",
    "Escreva instruções SQL para montar as duas tabelas restante, conforme definido no esquema relacional da **Tarefa 1**.\n",
    "\n",
    "**Importante:** não defina chave primária para a tabela de uso de medicamento.\n",
    "\n",
    "Durante a criação das tabelas, realize a importação dos dados do arquivo CSV nas tabelas criadas, conforme exemplo anterior."
   ],
   "metadata": {}
  },
  {
   "cell_type": "code",
   "execution_count": 8,
   "source": [
    "DROP TABLE IF EXISTS Medicamento;\n",
    "CREATE TABLE Medicamento (\n",
    "    Codigo VARCHAR(6) NOT NULL,\n",
    "    Nome VARCHAR(100) NOT NULL,\n",
    "    PRIMARY KEY(Codigo)\n",
    ") AS SELECT\n",
    "    code,\n",
    "    name\n",
    "  FROM CSVREAD('../data/medications-drug.csv');"
   ],
   "outputs": [],
   "metadata": {}
  },
  {
   "cell_type": "code",
   "execution_count": 9,
   "source": [
    "SELECT * FROM Medicamento;"
   ],
   "outputs": [
    {
     "output_type": "display_data",
     "data": {
      "application/vnd.jupyter.widget-view+json": {
       "model_id": "e10955bd-316e-4c28-b579-6cce8c15e642",
       "version_major": 2,
       "version_minor": 0
      },
      "application/vnd.code.notebook.error": {
       "name": "Error",
       "message": "INVALID mime type: method. Must be in the format \"type/subtype[;optionalparameter]\"",
       "stack": "Error: INVALID mime type: method. Must be in the format \"type/subtype[;optionalparameter]\"\n\tat new Tt (/usr/share/code/resources/app/out/vs/workbench/services/extensions/node/extensionHostProcess.js:87:55799)\n\tat Function.text (/usr/share/code/resources/app/out/vs/workbench/services/extensions/node/extensionHostProcess.js:87:56450)\n\tat d (/usr/share/code/resources/app/extensions/ipynb/dist/ipynbMain.js:1:139047)\n\tat l (/usr/share/code/resources/app/extensions/ipynb/dist/ipynbMain.js:1:139713)\n\tat p (/usr/share/code/resources/app/extensions/ipynb/dist/ipynbMain.js:1:140218)\n\tat Array.map (<anonymous>)\n\tat /usr/share/code/resources/app/extensions/ipynb/dist/ipynbMain.js:1:141404\n\tat /usr/share/code/resources/app/extensions/ipynb/dist/ipynbMain.js:1:141646\n\tat /usr/share/code/resources/app/extensions/ipynb/dist/ipynbMain.js:1:141653\n\tat Array.map (<anonymous>)\n\tat e.jupyterNotebookModelToNotebookData (/usr/share/code/resources/app/extensions/ipynb/dist/ipynbMain.js:1:140962)\n\tat e.NotebookSerializer.deserializeNotebook (/usr/share/code/resources/app/extensions/ipynb/dist/ipynbMain.js:1:142865)\n\tat P.$dataToNotebook (/usr/share/code/resources/app/out/vs/workbench/services/extensions/node/extensionHostProcess.js:94:214167)\n\tat i._doInvokeHandler (/usr/share/code/resources/app/out/vs/workbench/services/extensions/node/extensionHostProcess.js:98:13543)\n\tat i._invokeHandler (/usr/share/code/resources/app/out/vs/workbench/services/extensions/node/extensionHostProcess.js:98:13227)\n\tat i._receiveRequest (/usr/share/code/resources/app/out/vs/workbench/services/extensions/node/extensionHostProcess.js:98:11838)\n\tat i._receiveOneMessage (/usr/share/code/resources/app/out/vs/workbench/services/extensions/node/extensionHostProcess.js:98:10766)\n\tat /usr/share/code/resources/app/out/vs/workbench/services/extensions/node/extensionHostProcess.js:98:8663\n\tat c.fire (/usr/share/code/resources/app/out/vs/workbench/services/extensions/node/extensionHostProcess.js:66:1712)\n\tat l.fire (/usr/share/code/resources/app/out/vs/workbench/services/extensions/node/extensionHostProcess.js:74:15781)\n\tat /usr/share/code/resources/app/out/vs/workbench/services/extensions/node/extensionHostProcess.js:113:30187\n\tat c.fire (/usr/share/code/resources/app/out/vs/workbench/services/extensions/node/extensionHostProcess.js:66:1712)\n\tat l.fire (/usr/share/code/resources/app/out/vs/workbench/services/extensions/node/extensionHostProcess.js:74:15781)\n\tat r._receiveMessage (/usr/share/code/resources/app/out/vs/workbench/services/extensions/node/extensionHostProcess.js:74:21051)\n\tat /usr/share/code/resources/app/out/vs/workbench/services/extensions/node/extensionHostProcess.js:74:17929\n\tat c.fire (/usr/share/code/resources/app/out/vs/workbench/services/extensions/node/extensionHostProcess.js:66:1712)\n\tat v.acceptChunk (/usr/share/code/resources/app/out/vs/workbench/services/extensions/node/extensionHostProcess.js:74:13142)\n\tat /usr/share/code/resources/app/out/vs/workbench/services/extensions/node/extensionHostProcess.js:74:12490\n\tat Socket.w (/usr/share/code/resources/app/out/vs/workbench/services/extensions/node/extensionHostProcess.js:113:13350)\n\tat Socket.emit (events.js:315:20)\n\tat addChunk (internal/streams/readable.js:309:12)\n\tat readableAddChunk (internal/streams/readable.js:284:9)\n\tat Socket.Readable.push (internal/streams/readable.js:223:10)\n\tat Pipe.onStreamRead (internal/stream_base_commons.js:188:23)"
      }
     },
     "metadata": {}
    }
   ],
   "metadata": {}
  },
  {
   "cell_type": "code",
   "execution_count": 11,
   "source": [
    "DROP TABLE IF EXISTS Uso_Medicamento;\n",
    "CREATE TABLE Uso_Medicamento(\n",
    "    Id_Pessoa VARCHAR(5) NOT NULL,\n",
    "    Codigo_Medicamento VARCHAR(6) NOT NULL,\n",
    "    Dias_Uso INTEGER,\n",
    "    FOREIGN KEY(Id_Pessoa)\n",
    "        REFERENCES Pessoa(Id)\n",
    "            ON DELETE NO ACTION\n",
    "            ON UPDATE NO ACTION,\n",
    "    FOREIGN KEY(Codigo_Medicamento)\n",
    "        REFERENCES MEdicamento(Codigo)\n",
    "            ON DELETE NO ACTION\n",
    "            ON UPDATE NO ACTION,    \n",
    ") AS SELECT\n",
    "    person_id,\n",
    "    drug_code,\n",
    "    days_use\n",
    "  FROM CSVREAD('../data/medications-use.csv');"
   ],
   "outputs": [],
   "metadata": {}
  },
  {
   "cell_type": "code",
   "execution_count": 12,
   "source": [
    "SELECT * FROM Uso_Medicamento;"
   ],
   "outputs": [
    {
     "output_type": "display_data",
     "data": {
      "application/vnd.jupyter.widget-view+json": {
       "model_id": "bc644851-a33e-4eb6-9386-f77156b9582d",
       "version_major": 2,
       "version_minor": 0
      },
      "application/vnd.code.notebook.error": {
       "name": "Error",
       "message": "INVALID mime type: method. Must be in the format \"type/subtype[;optionalparameter]\"",
       "stack": "Error: INVALID mime type: method. Must be in the format \"type/subtype[;optionalparameter]\"\n\tat new Tt (/usr/share/code/resources/app/out/vs/workbench/services/extensions/node/extensionHostProcess.js:87:55799)\n\tat Function.text (/usr/share/code/resources/app/out/vs/workbench/services/extensions/node/extensionHostProcess.js:87:56450)\n\tat d (/usr/share/code/resources/app/extensions/ipynb/dist/ipynbMain.js:1:139047)\n\tat l (/usr/share/code/resources/app/extensions/ipynb/dist/ipynbMain.js:1:139713)\n\tat p (/usr/share/code/resources/app/extensions/ipynb/dist/ipynbMain.js:1:140218)\n\tat Array.map (<anonymous>)\n\tat /usr/share/code/resources/app/extensions/ipynb/dist/ipynbMain.js:1:141404\n\tat /usr/share/code/resources/app/extensions/ipynb/dist/ipynbMain.js:1:141646\n\tat /usr/share/code/resources/app/extensions/ipynb/dist/ipynbMain.js:1:141653\n\tat Array.map (<anonymous>)\n\tat e.jupyterNotebookModelToNotebookData (/usr/share/code/resources/app/extensions/ipynb/dist/ipynbMain.js:1:140962)\n\tat e.NotebookSerializer.deserializeNotebook (/usr/share/code/resources/app/extensions/ipynb/dist/ipynbMain.js:1:142865)\n\tat P.$dataToNotebook (/usr/share/code/resources/app/out/vs/workbench/services/extensions/node/extensionHostProcess.js:94:214167)\n\tat i._doInvokeHandler (/usr/share/code/resources/app/out/vs/workbench/services/extensions/node/extensionHostProcess.js:98:13543)\n\tat i._invokeHandler (/usr/share/code/resources/app/out/vs/workbench/services/extensions/node/extensionHostProcess.js:98:13227)\n\tat i._receiveRequest (/usr/share/code/resources/app/out/vs/workbench/services/extensions/node/extensionHostProcess.js:98:11838)\n\tat i._receiveOneMessage (/usr/share/code/resources/app/out/vs/workbench/services/extensions/node/extensionHostProcess.js:98:10766)\n\tat /usr/share/code/resources/app/out/vs/workbench/services/extensions/node/extensionHostProcess.js:98:8663\n\tat c.fire (/usr/share/code/resources/app/out/vs/workbench/services/extensions/node/extensionHostProcess.js:66:1712)\n\tat l.fire (/usr/share/code/resources/app/out/vs/workbench/services/extensions/node/extensionHostProcess.js:74:15781)\n\tat /usr/share/code/resources/app/out/vs/workbench/services/extensions/node/extensionHostProcess.js:113:30187\n\tat c.fire (/usr/share/code/resources/app/out/vs/workbench/services/extensions/node/extensionHostProcess.js:66:1712)\n\tat l.fire (/usr/share/code/resources/app/out/vs/workbench/services/extensions/node/extensionHostProcess.js:74:15781)\n\tat r._receiveMessage (/usr/share/code/resources/app/out/vs/workbench/services/extensions/node/extensionHostProcess.js:74:21051)\n\tat /usr/share/code/resources/app/out/vs/workbench/services/extensions/node/extensionHostProcess.js:74:17929\n\tat c.fire (/usr/share/code/resources/app/out/vs/workbench/services/extensions/node/extensionHostProcess.js:66:1712)\n\tat v.acceptChunk (/usr/share/code/resources/app/out/vs/workbench/services/extensions/node/extensionHostProcess.js:74:13142)\n\tat /usr/share/code/resources/app/out/vs/workbench/services/extensions/node/extensionHostProcess.js:74:12490\n\tat Socket.w (/usr/share/code/resources/app/out/vs/workbench/services/extensions/node/extensionHostProcess.js:113:13350)\n\tat Socket.emit (events.js:315:20)\n\tat addChunk (internal/streams/readable.js:309:12)\n\tat readableAddChunk (internal/streams/readable.js:284:9)\n\tat Socket.Readable.push (internal/streams/readable.js:223:10)\n\tat Pipe.onStreamRead (internal/stream_base_commons.js:188:23)"
      }
     },
     "metadata": {}
    }
   ],
   "metadata": {}
  },
  {
   "cell_type": "markdown",
   "source": [
    "# Tarefa 3 - Consultas Simples\n",
    "\n",
    "Execute as consultas a seguir."
   ],
   "metadata": {}
  },
  {
   "cell_type": "markdown",
   "source": [
    "a) Liste pessoas com idade acima de 60"
   ],
   "metadata": {}
  },
  {
   "cell_type": "code",
   "execution_count": 15,
   "source": [
    "SELECT  *\n",
    "        FROM Pessoa P\n",
    "        WHERE P.Age > 60\n",
    "        ORDER BY P.Age;"
   ],
   "outputs": [
    {
     "output_type": "display_data",
     "data": {
      "application/vnd.jupyter.widget-view+json": {
       "model_id": "a4abb869-760f-4fa8-ae5b-e63c5ccbf7e1",
       "version_major": 2,
       "version_minor": 0
      },
      "application/vnd.code.notebook.error": {
       "name": "Error",
       "message": "INVALID mime type: method. Must be in the format \"type/subtype[;optionalparameter]\"",
       "stack": "Error: INVALID mime type: method. Must be in the format \"type/subtype[;optionalparameter]\"\n\tat new Tt (/usr/share/code/resources/app/out/vs/workbench/services/extensions/node/extensionHostProcess.js:87:55799)\n\tat Function.text (/usr/share/code/resources/app/out/vs/workbench/services/extensions/node/extensionHostProcess.js:87:56450)\n\tat d (/usr/share/code/resources/app/extensions/ipynb/dist/ipynbMain.js:1:139047)\n\tat l (/usr/share/code/resources/app/extensions/ipynb/dist/ipynbMain.js:1:139713)\n\tat p (/usr/share/code/resources/app/extensions/ipynb/dist/ipynbMain.js:1:140218)\n\tat Array.map (<anonymous>)\n\tat /usr/share/code/resources/app/extensions/ipynb/dist/ipynbMain.js:1:141404\n\tat /usr/share/code/resources/app/extensions/ipynb/dist/ipynbMain.js:1:141646\n\tat /usr/share/code/resources/app/extensions/ipynb/dist/ipynbMain.js:1:141653\n\tat Array.map (<anonymous>)\n\tat e.jupyterNotebookModelToNotebookData (/usr/share/code/resources/app/extensions/ipynb/dist/ipynbMain.js:1:140962)\n\tat e.NotebookSerializer.deserializeNotebook (/usr/share/code/resources/app/extensions/ipynb/dist/ipynbMain.js:1:142865)\n\tat P.$dataToNotebook (/usr/share/code/resources/app/out/vs/workbench/services/extensions/node/extensionHostProcess.js:94:214167)\n\tat i._doInvokeHandler (/usr/share/code/resources/app/out/vs/workbench/services/extensions/node/extensionHostProcess.js:98:13543)\n\tat i._invokeHandler (/usr/share/code/resources/app/out/vs/workbench/services/extensions/node/extensionHostProcess.js:98:13227)\n\tat i._receiveRequest (/usr/share/code/resources/app/out/vs/workbench/services/extensions/node/extensionHostProcess.js:98:11838)\n\tat i._receiveOneMessage (/usr/share/code/resources/app/out/vs/workbench/services/extensions/node/extensionHostProcess.js:98:10766)\n\tat /usr/share/code/resources/app/out/vs/workbench/services/extensions/node/extensionHostProcess.js:98:8663\n\tat c.fire (/usr/share/code/resources/app/out/vs/workbench/services/extensions/node/extensionHostProcess.js:66:1712)\n\tat l.fire (/usr/share/code/resources/app/out/vs/workbench/services/extensions/node/extensionHostProcess.js:74:15781)\n\tat /usr/share/code/resources/app/out/vs/workbench/services/extensions/node/extensionHostProcess.js:113:30187\n\tat c.fire (/usr/share/code/resources/app/out/vs/workbench/services/extensions/node/extensionHostProcess.js:66:1712)\n\tat l.fire (/usr/share/code/resources/app/out/vs/workbench/services/extensions/node/extensionHostProcess.js:74:15781)\n\tat r._receiveMessage (/usr/share/code/resources/app/out/vs/workbench/services/extensions/node/extensionHostProcess.js:74:21051)\n\tat /usr/share/code/resources/app/out/vs/workbench/services/extensions/node/extensionHostProcess.js:74:17929\n\tat c.fire (/usr/share/code/resources/app/out/vs/workbench/services/extensions/node/extensionHostProcess.js:66:1712)\n\tat v.acceptChunk (/usr/share/code/resources/app/out/vs/workbench/services/extensions/node/extensionHostProcess.js:74:13142)\n\tat /usr/share/code/resources/app/out/vs/workbench/services/extensions/node/extensionHostProcess.js:74:12490\n\tat Socket.w (/usr/share/code/resources/app/out/vs/workbench/services/extensions/node/extensionHostProcess.js:113:13350)\n\tat Socket.emit (events.js:315:20)\n\tat addChunk (internal/streams/readable.js:309:12)\n\tat readableAddChunk (internal/streams/readable.js:284:9)\n\tat Socket.Readable.push (internal/streams/readable.js:223:10)\n\tat Pipe.onStreamRead (internal/stream_base_commons.js:188:23)"
      }
     },
     "metadata": {}
    }
   ],
   "metadata": {}
  },
  {
   "cell_type": "markdown",
   "source": [
    "b) Liste as idades das pessoas cadastradas (sem repetições)"
   ],
   "metadata": {}
  },
  {
   "cell_type": "code",
   "execution_count": 14,
   "source": [
    "SELECT  DISTINCT P.Age\n",
    "        FROM Pessoa P\n",
    "        ORDER BY P.Age;"
   ],
   "outputs": [
    {
     "output_type": "display_data",
     "data": {
      "application/vnd.jupyter.widget-view+json": {
       "model_id": "427c8212-78d6-4310-99f9-bf641171c561",
       "version_major": 2,
       "version_minor": 0
      },
      "application/vnd.code.notebook.error": {
       "name": "Error",
       "message": "INVALID mime type: method. Must be in the format \"type/subtype[;optionalparameter]\"",
       "stack": "Error: INVALID mime type: method. Must be in the format \"type/subtype[;optionalparameter]\"\n\tat new Tt (/usr/share/code/resources/app/out/vs/workbench/services/extensions/node/extensionHostProcess.js:87:55799)\n\tat Function.text (/usr/share/code/resources/app/out/vs/workbench/services/extensions/node/extensionHostProcess.js:87:56450)\n\tat d (/usr/share/code/resources/app/extensions/ipynb/dist/ipynbMain.js:1:139047)\n\tat l (/usr/share/code/resources/app/extensions/ipynb/dist/ipynbMain.js:1:139713)\n\tat p (/usr/share/code/resources/app/extensions/ipynb/dist/ipynbMain.js:1:140218)\n\tat Array.map (<anonymous>)\n\tat /usr/share/code/resources/app/extensions/ipynb/dist/ipynbMain.js:1:141404\n\tat /usr/share/code/resources/app/extensions/ipynb/dist/ipynbMain.js:1:141646\n\tat /usr/share/code/resources/app/extensions/ipynb/dist/ipynbMain.js:1:141653\n\tat Array.map (<anonymous>)\n\tat e.jupyterNotebookModelToNotebookData (/usr/share/code/resources/app/extensions/ipynb/dist/ipynbMain.js:1:140962)\n\tat e.NotebookSerializer.deserializeNotebook (/usr/share/code/resources/app/extensions/ipynb/dist/ipynbMain.js:1:142865)\n\tat P.$dataToNotebook (/usr/share/code/resources/app/out/vs/workbench/services/extensions/node/extensionHostProcess.js:94:214167)\n\tat i._doInvokeHandler (/usr/share/code/resources/app/out/vs/workbench/services/extensions/node/extensionHostProcess.js:98:13543)\n\tat i._invokeHandler (/usr/share/code/resources/app/out/vs/workbench/services/extensions/node/extensionHostProcess.js:98:13227)\n\tat i._receiveRequest (/usr/share/code/resources/app/out/vs/workbench/services/extensions/node/extensionHostProcess.js:98:11838)\n\tat i._receiveOneMessage (/usr/share/code/resources/app/out/vs/workbench/services/extensions/node/extensionHostProcess.js:98:10766)\n\tat /usr/share/code/resources/app/out/vs/workbench/services/extensions/node/extensionHostProcess.js:98:8663\n\tat c.fire (/usr/share/code/resources/app/out/vs/workbench/services/extensions/node/extensionHostProcess.js:66:1712)\n\tat l.fire (/usr/share/code/resources/app/out/vs/workbench/services/extensions/node/extensionHostProcess.js:74:15781)\n\tat /usr/share/code/resources/app/out/vs/workbench/services/extensions/node/extensionHostProcess.js:113:30187\n\tat c.fire (/usr/share/code/resources/app/out/vs/workbench/services/extensions/node/extensionHostProcess.js:66:1712)\n\tat l.fire (/usr/share/code/resources/app/out/vs/workbench/services/extensions/node/extensionHostProcess.js:74:15781)\n\tat r._receiveMessage (/usr/share/code/resources/app/out/vs/workbench/services/extensions/node/extensionHostProcess.js:74:21051)\n\tat /usr/share/code/resources/app/out/vs/workbench/services/extensions/node/extensionHostProcess.js:74:17929\n\tat c.fire (/usr/share/code/resources/app/out/vs/workbench/services/extensions/node/extensionHostProcess.js:66:1712)\n\tat v.acceptChunk (/usr/share/code/resources/app/out/vs/workbench/services/extensions/node/extensionHostProcess.js:74:13142)\n\tat /usr/share/code/resources/app/out/vs/workbench/services/extensions/node/extensionHostProcess.js:74:12490\n\tat Socket.w (/usr/share/code/resources/app/out/vs/workbench/services/extensions/node/extensionHostProcess.js:113:13350)\n\tat Socket.emit (events.js:315:20)\n\tat addChunk (internal/streams/readable.js:309:12)\n\tat readableAddChunk (internal/streams/readable.js:284:9)\n\tat Socket.Readable.push (internal/streams/readable.js:223:10)\n\tat Pipe.onStreamRead (internal/stream_base_commons.js:188:23)"
      }
     },
     "metadata": {}
    }
   ],
   "metadata": {}
  },
  {
   "cell_type": "markdown",
   "source": [
    "c) Liste código das pessoas, idade, código dos medicamentos que usaram e dias de uso"
   ],
   "metadata": {}
  },
  {
   "cell_type": "code",
   "execution_count": 18,
   "source": [
    "SELECT  P.Id, P.Age, U.Codigo_Medicamento, U.Dias_Uso\n",
    "        FROM Pessoa P, Uso_MEDICAMENTO U\n",
    "        WHERE P.Id = U.Id_Pessoa\n",
    "        ORDER BY P.Id;"
   ],
   "outputs": [
    {
     "output_type": "display_data",
     "data": {
      "application/vnd.jupyter.widget-view+json": {
       "model_id": "71707541-97ca-4bd7-a14c-458d523324e7",
       "version_major": 2,
       "version_minor": 0
      },
      "application/vnd.code.notebook.error": {
       "name": "Error",
       "message": "INVALID mime type: method. Must be in the format \"type/subtype[;optionalparameter]\"",
       "stack": "Error: INVALID mime type: method. Must be in the format \"type/subtype[;optionalparameter]\"\n\tat new Tt (/usr/share/code/resources/app/out/vs/workbench/services/extensions/node/extensionHostProcess.js:87:55799)\n\tat Function.text (/usr/share/code/resources/app/out/vs/workbench/services/extensions/node/extensionHostProcess.js:87:56450)\n\tat d (/usr/share/code/resources/app/extensions/ipynb/dist/ipynbMain.js:1:139047)\n\tat l (/usr/share/code/resources/app/extensions/ipynb/dist/ipynbMain.js:1:139713)\n\tat p (/usr/share/code/resources/app/extensions/ipynb/dist/ipynbMain.js:1:140218)\n\tat Array.map (<anonymous>)\n\tat /usr/share/code/resources/app/extensions/ipynb/dist/ipynbMain.js:1:141404\n\tat /usr/share/code/resources/app/extensions/ipynb/dist/ipynbMain.js:1:141646\n\tat /usr/share/code/resources/app/extensions/ipynb/dist/ipynbMain.js:1:141653\n\tat Array.map (<anonymous>)\n\tat e.jupyterNotebookModelToNotebookData (/usr/share/code/resources/app/extensions/ipynb/dist/ipynbMain.js:1:140962)\n\tat e.NotebookSerializer.deserializeNotebook (/usr/share/code/resources/app/extensions/ipynb/dist/ipynbMain.js:1:142865)\n\tat P.$dataToNotebook (/usr/share/code/resources/app/out/vs/workbench/services/extensions/node/extensionHostProcess.js:94:214167)\n\tat i._doInvokeHandler (/usr/share/code/resources/app/out/vs/workbench/services/extensions/node/extensionHostProcess.js:98:13543)\n\tat i._invokeHandler (/usr/share/code/resources/app/out/vs/workbench/services/extensions/node/extensionHostProcess.js:98:13227)\n\tat i._receiveRequest (/usr/share/code/resources/app/out/vs/workbench/services/extensions/node/extensionHostProcess.js:98:11838)\n\tat i._receiveOneMessage (/usr/share/code/resources/app/out/vs/workbench/services/extensions/node/extensionHostProcess.js:98:10766)\n\tat /usr/share/code/resources/app/out/vs/workbench/services/extensions/node/extensionHostProcess.js:98:8663\n\tat c.fire (/usr/share/code/resources/app/out/vs/workbench/services/extensions/node/extensionHostProcess.js:66:1712)\n\tat l.fire (/usr/share/code/resources/app/out/vs/workbench/services/extensions/node/extensionHostProcess.js:74:15781)\n\tat /usr/share/code/resources/app/out/vs/workbench/services/extensions/node/extensionHostProcess.js:113:30187\n\tat c.fire (/usr/share/code/resources/app/out/vs/workbench/services/extensions/node/extensionHostProcess.js:66:1712)\n\tat l.fire (/usr/share/code/resources/app/out/vs/workbench/services/extensions/node/extensionHostProcess.js:74:15781)\n\tat r._receiveMessage (/usr/share/code/resources/app/out/vs/workbench/services/extensions/node/extensionHostProcess.js:74:21051)\n\tat /usr/share/code/resources/app/out/vs/workbench/services/extensions/node/extensionHostProcess.js:74:17929\n\tat c.fire (/usr/share/code/resources/app/out/vs/workbench/services/extensions/node/extensionHostProcess.js:66:1712)\n\tat v.acceptChunk (/usr/share/code/resources/app/out/vs/workbench/services/extensions/node/extensionHostProcess.js:74:13142)\n\tat /usr/share/code/resources/app/out/vs/workbench/services/extensions/node/extensionHostProcess.js:74:12490\n\tat Socket.w (/usr/share/code/resources/app/out/vs/workbench/services/extensions/node/extensionHostProcess.js:113:13350)\n\tat Socket.emit (events.js:315:20)\n\tat addChunk (internal/streams/readable.js:309:12)\n\tat readableAddChunk (internal/streams/readable.js:284:9)\n\tat Socket.Readable.push (internal/streams/readable.js:223:10)\n\tat Pipe.onStreamRead (internal/stream_base_commons.js:188:23)"
      }
     },
     "metadata": {}
    }
   ],
   "metadata": {}
  },
  {
   "cell_type": "markdown",
   "source": [
    "d) Liste código das Pessoas, idade, nome dos medicamentos que usaram e quantos dias de uso"
   ],
   "metadata": {}
  },
  {
   "cell_type": "code",
   "execution_count": 21,
   "source": [
    "SELECT  P.Id, P.Age, M.Nome, U.Dias_Uso\n",
    "        FROM Pessoa P, Medicamento M, Uso_Medicamento U\n",
    "        WHERE P.Id = U.Id_Pessoa AND M.Codigo = U.Codigo_Medicamento;"
   ],
   "outputs": [
    {
     "output_type": "display_data",
     "data": {
      "application/vnd.jupyter.widget-view+json": {
       "model_id": "1739a781-d300-49cd-a851-ea8714ec2b45",
       "version_major": 2,
       "version_minor": 0
      },
      "application/vnd.code.notebook.error": {
       "name": "Error",
       "message": "INVALID mime type: method. Must be in the format \"type/subtype[;optionalparameter]\"",
       "stack": "Error: INVALID mime type: method. Must be in the format \"type/subtype[;optionalparameter]\"\n\tat new Tt (/usr/share/code/resources/app/out/vs/workbench/services/extensions/node/extensionHostProcess.js:87:55799)\n\tat Function.text (/usr/share/code/resources/app/out/vs/workbench/services/extensions/node/extensionHostProcess.js:87:56450)\n\tat d (/usr/share/code/resources/app/extensions/ipynb/dist/ipynbMain.js:1:139047)\n\tat l (/usr/share/code/resources/app/extensions/ipynb/dist/ipynbMain.js:1:139713)\n\tat p (/usr/share/code/resources/app/extensions/ipynb/dist/ipynbMain.js:1:140218)\n\tat Array.map (<anonymous>)\n\tat /usr/share/code/resources/app/extensions/ipynb/dist/ipynbMain.js:1:141404\n\tat /usr/share/code/resources/app/extensions/ipynb/dist/ipynbMain.js:1:141646\n\tat /usr/share/code/resources/app/extensions/ipynb/dist/ipynbMain.js:1:141653\n\tat Array.map (<anonymous>)\n\tat e.jupyterNotebookModelToNotebookData (/usr/share/code/resources/app/extensions/ipynb/dist/ipynbMain.js:1:140962)\n\tat e.NotebookSerializer.deserializeNotebook (/usr/share/code/resources/app/extensions/ipynb/dist/ipynbMain.js:1:142865)\n\tat P.$dataToNotebook (/usr/share/code/resources/app/out/vs/workbench/services/extensions/node/extensionHostProcess.js:94:214167)\n\tat i._doInvokeHandler (/usr/share/code/resources/app/out/vs/workbench/services/extensions/node/extensionHostProcess.js:98:13543)\n\tat i._invokeHandler (/usr/share/code/resources/app/out/vs/workbench/services/extensions/node/extensionHostProcess.js:98:13227)\n\tat i._receiveRequest (/usr/share/code/resources/app/out/vs/workbench/services/extensions/node/extensionHostProcess.js:98:11838)\n\tat i._receiveOneMessage (/usr/share/code/resources/app/out/vs/workbench/services/extensions/node/extensionHostProcess.js:98:10766)\n\tat /usr/share/code/resources/app/out/vs/workbench/services/extensions/node/extensionHostProcess.js:98:8663\n\tat c.fire (/usr/share/code/resources/app/out/vs/workbench/services/extensions/node/extensionHostProcess.js:66:1712)\n\tat l.fire (/usr/share/code/resources/app/out/vs/workbench/services/extensions/node/extensionHostProcess.js:74:15781)\n\tat /usr/share/code/resources/app/out/vs/workbench/services/extensions/node/extensionHostProcess.js:113:30187\n\tat c.fire (/usr/share/code/resources/app/out/vs/workbench/services/extensions/node/extensionHostProcess.js:66:1712)\n\tat l.fire (/usr/share/code/resources/app/out/vs/workbench/services/extensions/node/extensionHostProcess.js:74:15781)\n\tat r._receiveMessage (/usr/share/code/resources/app/out/vs/workbench/services/extensions/node/extensionHostProcess.js:74:21051)\n\tat /usr/share/code/resources/app/out/vs/workbench/services/extensions/node/extensionHostProcess.js:74:17929\n\tat c.fire (/usr/share/code/resources/app/out/vs/workbench/services/extensions/node/extensionHostProcess.js:66:1712)\n\tat v.acceptChunk (/usr/share/code/resources/app/out/vs/workbench/services/extensions/node/extensionHostProcess.js:74:13142)\n\tat /usr/share/code/resources/app/out/vs/workbench/services/extensions/node/extensionHostProcess.js:74:12490\n\tat Socket.w (/usr/share/code/resources/app/out/vs/workbench/services/extensions/node/extensionHostProcess.js:113:13350)\n\tat Socket.emit (events.js:315:20)\n\tat addChunk (internal/streams/readable.js:309:12)\n\tat readableAddChunk (internal/streams/readable.js:284:9)\n\tat Socket.Readable.push (internal/streams/readable.js:223:10)\n\tat Pipe.onStreamRead (internal/stream_base_commons.js:188:23)"
      }
     },
     "metadata": {}
    }
   ],
   "metadata": {}
  },
  {
   "cell_type": "markdown",
   "source": [
    "e) Liste nome dos medicamentos que foram usados por pessoas (sem repetições)"
   ],
   "metadata": {}
  },
  {
   "cell_type": "code",
   "execution_count": 23,
   "source": [
    "SELECT  DISTINCT M.Nome\n",
    "        FROM Medicamento M, Uso_Medicamento U\n",
    "        WHERE M.Codigo = U.Codigo_Medicamento\n",
    "        ORDER BY M.Nome;"
   ],
   "outputs": [
    {
     "output_type": "display_data",
     "data": {
      "application/vnd.jupyter.widget-view+json": {
       "model_id": "5ce674a0-682f-4769-8463-36a64e2e743f",
       "version_major": 2,
       "version_minor": 0
      },
      "application/vnd.code.notebook.error": {
       "name": "Error",
       "message": "INVALID mime type: method. Must be in the format \"type/subtype[;optionalparameter]\"",
       "stack": "Error: INVALID mime type: method. Must be in the format \"type/subtype[;optionalparameter]\"\n\tat new Tt (/usr/share/code/resources/app/out/vs/workbench/services/extensions/node/extensionHostProcess.js:87:55799)\n\tat Function.text (/usr/share/code/resources/app/out/vs/workbench/services/extensions/node/extensionHostProcess.js:87:56450)\n\tat d (/usr/share/code/resources/app/extensions/ipynb/dist/ipynbMain.js:1:139047)\n\tat l (/usr/share/code/resources/app/extensions/ipynb/dist/ipynbMain.js:1:139713)\n\tat p (/usr/share/code/resources/app/extensions/ipynb/dist/ipynbMain.js:1:140218)\n\tat Array.map (<anonymous>)\n\tat /usr/share/code/resources/app/extensions/ipynb/dist/ipynbMain.js:1:141404\n\tat /usr/share/code/resources/app/extensions/ipynb/dist/ipynbMain.js:1:141646\n\tat /usr/share/code/resources/app/extensions/ipynb/dist/ipynbMain.js:1:141653\n\tat Array.map (<anonymous>)\n\tat e.jupyterNotebookModelToNotebookData (/usr/share/code/resources/app/extensions/ipynb/dist/ipynbMain.js:1:140962)\n\tat e.NotebookSerializer.deserializeNotebook (/usr/share/code/resources/app/extensions/ipynb/dist/ipynbMain.js:1:142865)\n\tat P.$dataToNotebook (/usr/share/code/resources/app/out/vs/workbench/services/extensions/node/extensionHostProcess.js:94:214167)\n\tat i._doInvokeHandler (/usr/share/code/resources/app/out/vs/workbench/services/extensions/node/extensionHostProcess.js:98:13543)\n\tat i._invokeHandler (/usr/share/code/resources/app/out/vs/workbench/services/extensions/node/extensionHostProcess.js:98:13227)\n\tat i._receiveRequest (/usr/share/code/resources/app/out/vs/workbench/services/extensions/node/extensionHostProcess.js:98:11838)\n\tat i._receiveOneMessage (/usr/share/code/resources/app/out/vs/workbench/services/extensions/node/extensionHostProcess.js:98:10766)\n\tat /usr/share/code/resources/app/out/vs/workbench/services/extensions/node/extensionHostProcess.js:98:8663\n\tat c.fire (/usr/share/code/resources/app/out/vs/workbench/services/extensions/node/extensionHostProcess.js:66:1712)\n\tat l.fire (/usr/share/code/resources/app/out/vs/workbench/services/extensions/node/extensionHostProcess.js:74:15781)\n\tat /usr/share/code/resources/app/out/vs/workbench/services/extensions/node/extensionHostProcess.js:113:30187\n\tat c.fire (/usr/share/code/resources/app/out/vs/workbench/services/extensions/node/extensionHostProcess.js:66:1712)\n\tat l.fire (/usr/share/code/resources/app/out/vs/workbench/services/extensions/node/extensionHostProcess.js:74:15781)\n\tat r._receiveMessage (/usr/share/code/resources/app/out/vs/workbench/services/extensions/node/extensionHostProcess.js:74:21051)\n\tat /usr/share/code/resources/app/out/vs/workbench/services/extensions/node/extensionHostProcess.js:74:17929\n\tat c.fire (/usr/share/code/resources/app/out/vs/workbench/services/extensions/node/extensionHostProcess.js:66:1712)\n\tat v.acceptChunk (/usr/share/code/resources/app/out/vs/workbench/services/extensions/node/extensionHostProcess.js:74:13142)\n\tat /usr/share/code/resources/app/out/vs/workbench/services/extensions/node/extensionHostProcess.js:74:12490\n\tat Socket.w (/usr/share/code/resources/app/out/vs/workbench/services/extensions/node/extensionHostProcess.js:113:13350)\n\tat Socket.emit (events.js:315:20)\n\tat addChunk (internal/streams/readable.js:309:12)\n\tat readableAddChunk (internal/streams/readable.js:284:9)\n\tat Socket.Readable.push (internal/streams/readable.js:223:10)\n\tat Pipe.onStreamRead (internal/stream_base_commons.js:188:23)"
      }
     },
     "metadata": {}
    }
   ],
   "metadata": {}
  },
  {
   "cell_type": "markdown",
   "source": [
    "f) Liste nome dos medicamentos usados por mais de 2.000 dias (sem repetições)"
   ],
   "metadata": {}
  },
  {
   "cell_type": "code",
   "execution_count": 26,
   "source": [
    "SELECT  DISTINCT M.Nome\n",
    "        FROM Medicamento M, Uso_Medicamento U\n",
    "        WHERE M.Codigo = U.Codigo_Medicamento AND U.Dias_Uso > 2000\n",
    "        ORDER BY M.Nome;"
   ],
   "outputs": [
    {
     "output_type": "display_data",
     "data": {
      "application/vnd.jupyter.widget-view+json": {
       "model_id": "bb3732a3-58a9-4e27-8a73-197c68ca9e6f",
       "version_major": 2,
       "version_minor": 0
      },
      "application/vnd.code.notebook.error": {
       "name": "Error",
       "message": "INVALID mime type: method. Must be in the format \"type/subtype[;optionalparameter]\"",
       "stack": "Error: INVALID mime type: method. Must be in the format \"type/subtype[;optionalparameter]\"\n\tat new Tt (/usr/share/code/resources/app/out/vs/workbench/services/extensions/node/extensionHostProcess.js:87:55799)\n\tat Function.text (/usr/share/code/resources/app/out/vs/workbench/services/extensions/node/extensionHostProcess.js:87:56450)\n\tat d (/usr/share/code/resources/app/extensions/ipynb/dist/ipynbMain.js:1:139047)\n\tat l (/usr/share/code/resources/app/extensions/ipynb/dist/ipynbMain.js:1:139713)\n\tat p (/usr/share/code/resources/app/extensions/ipynb/dist/ipynbMain.js:1:140218)\n\tat Array.map (<anonymous>)\n\tat /usr/share/code/resources/app/extensions/ipynb/dist/ipynbMain.js:1:141404\n\tat /usr/share/code/resources/app/extensions/ipynb/dist/ipynbMain.js:1:141646\n\tat /usr/share/code/resources/app/extensions/ipynb/dist/ipynbMain.js:1:141653\n\tat Array.map (<anonymous>)\n\tat e.jupyterNotebookModelToNotebookData (/usr/share/code/resources/app/extensions/ipynb/dist/ipynbMain.js:1:140962)\n\tat e.NotebookSerializer.deserializeNotebook (/usr/share/code/resources/app/extensions/ipynb/dist/ipynbMain.js:1:142865)\n\tat P.$dataToNotebook (/usr/share/code/resources/app/out/vs/workbench/services/extensions/node/extensionHostProcess.js:94:214167)\n\tat i._doInvokeHandler (/usr/share/code/resources/app/out/vs/workbench/services/extensions/node/extensionHostProcess.js:98:13543)\n\tat i._invokeHandler (/usr/share/code/resources/app/out/vs/workbench/services/extensions/node/extensionHostProcess.js:98:13227)\n\tat i._receiveRequest (/usr/share/code/resources/app/out/vs/workbench/services/extensions/node/extensionHostProcess.js:98:11838)\n\tat i._receiveOneMessage (/usr/share/code/resources/app/out/vs/workbench/services/extensions/node/extensionHostProcess.js:98:10766)\n\tat /usr/share/code/resources/app/out/vs/workbench/services/extensions/node/extensionHostProcess.js:98:8663\n\tat c.fire (/usr/share/code/resources/app/out/vs/workbench/services/extensions/node/extensionHostProcess.js:66:1712)\n\tat l.fire (/usr/share/code/resources/app/out/vs/workbench/services/extensions/node/extensionHostProcess.js:74:15781)\n\tat /usr/share/code/resources/app/out/vs/workbench/services/extensions/node/extensionHostProcess.js:113:30187\n\tat c.fire (/usr/share/code/resources/app/out/vs/workbench/services/extensions/node/extensionHostProcess.js:66:1712)\n\tat l.fire (/usr/share/code/resources/app/out/vs/workbench/services/extensions/node/extensionHostProcess.js:74:15781)\n\tat r._receiveMessage (/usr/share/code/resources/app/out/vs/workbench/services/extensions/node/extensionHostProcess.js:74:21051)\n\tat /usr/share/code/resources/app/out/vs/workbench/services/extensions/node/extensionHostProcess.js:74:17929\n\tat c.fire (/usr/share/code/resources/app/out/vs/workbench/services/extensions/node/extensionHostProcess.js:66:1712)\n\tat v.acceptChunk (/usr/share/code/resources/app/out/vs/workbench/services/extensions/node/extensionHostProcess.js:74:13142)\n\tat /usr/share/code/resources/app/out/vs/workbench/services/extensions/node/extensionHostProcess.js:74:12490\n\tat Socket.w (/usr/share/code/resources/app/out/vs/workbench/services/extensions/node/extensionHostProcess.js:113:13350)\n\tat Socket.emit (events.js:315:20)\n\tat addChunk (internal/streams/readable.js:309:12)\n\tat readableAddChunk (internal/streams/readable.js:284:9)\n\tat Socket.Readable.push (internal/streams/readable.js:223:10)\n\tat Pipe.onStreamRead (internal/stream_base_commons.js:188:23)"
      }
     },
     "metadata": {}
    }
   ],
   "metadata": {}
  }
 ],
 "metadata": {
  "kernelspec": {
   "display_name": "SQL",
   "language": "SQL",
   "name": "sql"
  },
  "language_info": {
   "codemirror_mode": "sql",
   "file_extension": ".sql",
   "mimetype": "",
   "name": "SQL",
   "nbconverter_exporter": "",
   "version": ""
  },
  "toc": {
   "base_numbering": 1,
   "nav_menu": {},
   "number_sections": false,
   "sideBar": false,
   "skip_h1_title": false,
   "title_cell": "Table of Contents",
   "title_sidebar": "Contents",
   "toc_cell": false,
   "toc_position": {},
   "toc_section_display": false,
   "toc_window_display": false
  }
 },
 "nbformat": 4,
 "nbformat_minor": 2
}