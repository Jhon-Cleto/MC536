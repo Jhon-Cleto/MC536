{
 "cells": [
  {
   "cell_type": "markdown",
   "source": [
    "# Lab 1 - API de Acesso a Dados"
   ],
   "metadata": {}
  },
  {
   "cell_type": "markdown",
   "source": [
    "# Tarefa 1\n",
    "\n",
    "Das fontes de dados disponíveis, tente encontrar fontes com formatos diferentes e importá-las via Python. Busque pelo menos dois formatos."
   ],
   "metadata": {}
  },
  {
   "cell_type": "markdown",
   "source": [
    "## NYC Health + Hospitals patient care locations\n",
    "\n",
    "NYC Health + Hospitals é o maior sistema de municipal de saúde dos Estados Unidos, atendendo a mais de 1 Milhão de nova-iorquinos todos os anos.\n",
    "\n",
    "O sistema de atendimento de saúde pública da cidade oferece serviços de trauma, emergência, saúde mental, saúde mental e abuso de substâncias nos cinco distritos\n",
    "\n",
    "Esse Base de Dados contêm uma lista dos hospitais públicos, instalações de enfermagem qualificadas e alguns dos centros de saúde baseados na comunidade que fazem parte do sistema NYC Health + Hospitals.\n",
    "\n",
    "A aquisição dos dados é feita por meio de uma API utilizando o protocolo HTTPS. Os tipos de respostas disponíveis incluem JSON, XML e CSV, que são selecionaveis pela \"Extensão\" (.json, etc.).\n",
    "\n",
    "Solicitação realizada através da URL: https://data.cityofnewyork.us/resource/f7b6-v6v3.json\n",
    "\n",
    "Documentação da API: https://dev.socrata.com/foundry/data.cityofnewyork.us/f7b6-v6v3"
   ],
   "metadata": {}
  },
  {
   "cell_type": "code",
   "execution_count": null,
   "source": [
    "import requests\n",
    "url = 'https://data.cityofnewyork.us/resource/f7b6-v6v3.json'\n",
    "response = requests.get(url)\n",
    "content = response.content\n",
    "js = response.json()\n",
    "print(js)"
   ],
   "outputs": [],
   "metadata": {}
  },
  {
   "cell_type": "code",
   "execution_count": null,
   "source": [
    "import requests\n",
    "url = 'https://www.google.com'\n",
    "response = requests.get(url)\n",
    "content = response.content\n",
    "print(content)"
   ],
   "outputs": [],
   "metadata": {}
  },
  {
   "cell_type": "markdown",
   "source": [
    "# Tarefa 2\n",
    "\n",
    "## Engenharia reversa\n",
    "\n",
    "Monte um diagramas que representem modelos dos dados que você terá acesso e como pretende associá-los. Coloque abaixo uma imagem do diagrama."
   ],
   "metadata": {}
  },
  {
   "cell_type": "code",
   "execution_count": null,
   "source": [],
   "outputs": [],
   "metadata": {}
  }
 ],
 "metadata": {
  "kernelspec": {
   "name": "python3",
   "display_name": "Python 3.9.5 64-bit"
  },
  "language_info": {
   "codemirror_mode": {
    "name": "ipython",
    "version": 3
   },
   "file_extension": ".py",
   "mimetype": "text/x-python",
   "name": "python",
   "nbconvert_exporter": "python",
   "pygments_lexer": "ipython3",
   "version": "3.9.5"
  },
  "interpreter": {
   "hash": "916dbcbb3f70747c44a77c7bcd40155683ae19c65e1c03b4aa3499c5328201f1"
  }
 },
 "nbformat": 4,
 "nbformat_minor": 4
}